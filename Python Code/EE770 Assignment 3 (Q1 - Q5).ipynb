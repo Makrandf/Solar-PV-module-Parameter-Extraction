{
 "cells": [
  {
   "cell_type": "code",
   "execution_count": null,
   "metadata": {},
   "outputs": [],
   "source": [
    "import numpy as np\n",
    "import math\n",
    "from scipy.optimize import fsolve\n",
    "import pvlib"
   ]
  },
  {
   "cell_type": "code",
   "execution_count": null,
   "metadata": {},
   "outputs": [],
   "source": [
    "Vmp = 36.6\n",
    "Imp = 8.20\n",
    "Voc = 45.3\n",
    "Isc= 8.84 \n",
    "Ncell = 72"
   ]
  },
  {
   "cell_type": "code",
   "execution_count": null,
   "metadata": {},
   "outputs": [],
   "source": [
    "k = 1.38 * (10**-23)\n",
    "q = 1.6 * (10**-19)\n",
    "T = 298.15 # Temp in kelvin\n",
    "Vt = (k * T) / q\n",
    "print (\"Vt=\",Vt)"
   ]
  },
  {
   "cell_type": "markdown",
   "metadata": {},
   "source": [
    "# Q1"
   ]
  },
  {
   "cell_type": "code",
   "execution_count": null,
   "metadata": {},
   "outputs": [],
   "source": [
    "def eta_initial():\n",
    "    n1 = 2*Vmp - Voc\n",
    "    n2 = Ncell * Vt\n",
    "    n3 = np.log((Isc - Imp) / Isc)\n",
    "    n4 = Imp / (Isc - Imp)\n",
    "    n5 = n1 / (n2 * (n3 + n4))\n",
    "    #print ( \"inieta = \", n5)\n",
    "    return n5"
   ]
  },
  {
   "cell_type": "code",
   "execution_count": null,
   "metadata": {},
   "outputs": [],
   "source": [
    "eta_initial()\n",
    "eta_ini = eta_initial()\n",
    "#x= int(ini1)\n",
    "print (eta_ini)\n",
    "#print (x)"
   ]
  },
  {
   "cell_type": "code",
   "execution_count": null,
   "metadata": {},
   "outputs": [],
   "source": [
    "def Rs_initial():\n",
    "    n1 = Vmp/Imp\n",
    "    n2 = (2*Vmp-Voc)/(Isc-Imp)\n",
    "    n3 = (np.log((Isc-Imp)/Isc)+(Imp/(Isc-Imp)))\n",
    "    n4 = n2/n3\n",
    "    n5 = n1-n4\n",
    "    return n5"
   ]
  },
  {
   "cell_type": "code",
   "execution_count": null,
   "metadata": {},
   "outputs": [],
   "source": [
    "Rs_initial()\n",
    "Rs_ini=Rs_initial()\n",
    "print (\"Rs_initial = \",Rs_ini,\"Ohms\")"
   ]
  },
  {
   "cell_type": "code",
   "execution_count": null,
   "metadata": {},
   "outputs": [],
   "source": [
    "def Rsh_initial():\n",
    "    n1 = Isc/(eta_ini*Ncell*Vt)\n",
    "    #print (n1)\n",
    "    n2 = (Rs_ini*Isc-Voc)/(eta_ini*Ncell*Vt)\n",
    "    #print (n2)\n",
    "    n3 = np.exp(n2)\n",
    "    #print (n3)\n",
    "    n4 = n1*n3\n",
    "    n5 = Rs_ini/n4\n",
    "    #print (n5)\n",
    "    n6 = np.sqrt(n5)\n",
    "    return n6"
   ]
  },
  {
   "cell_type": "code",
   "execution_count": null,
   "metadata": {},
   "outputs": [],
   "source": [
    "Rsh_initial()\n",
    "Rsh_ini=Rsh_initial()\n",
    "print (\"Rsh_initial = \",Rsh_ini,\"Ohms\")"
   ]
  },
  {
   "cell_type": "markdown",
   "metadata": {},
   "source": [
    "# Q2"
   ]
  },
  {
   "cell_type": "code",
   "execution_count": null,
   "metadata": {},
   "outputs": [],
   "source": [
    "def parameter_function(x):\n",
    "    eta = x[0]\n",
    "    Rs  = x[1]\n",
    "    Rsh = x[2]\n",
    "    F=np.zeros(np.size(x))\n",
    "    F[0] = Imp-Isc+(Vmp+Imp*Rs-Isc*Rs)/Rsh+(Isc-(Voc-Isc*Rs)/Rsh )*(np.exp((-Voc+Vmp+Imp*Rs)/(eta*Ncell*Vt ))) \n",
    "    F[1] = Imp+Vmp*(((-(-Voc+Isc*Rsh+Isc*Rs)/(eta*Ncell*Vt*Rsh ))* (np.exp((-Voc+Vmp+Imp*Rs)/(eta*Ncell*Vt )))-1/Rsh) /(1+((-Voc+Isc*Rsh+Isc*Rs)/(eta*Ncell*Vt*Rsh))*Rs*(np.exp((-Voc+Vmp+Imp*Rs)/(eta*Ncell*Vt )))+Rs/Rsh ))\n",
    "    F[2] = 1/Rsh+(((-(-Voc+Isc*Rsh+Isc*Rs)/(eta*Ncell*Vt*Rsh ))* (np.exp((-Voc+Isc*Rs)/(eta*Ncell*Vt )))-1/Rsh) /(1+((-Voc+Isc*Rsh+Isc*Rs)/(eta*Ncell*Vt*Rsh))*Rs*(np.exp((-Voc+Isc*Rs)/(eta*Ncell*Vt )))+Rs/Rsh ))\n",
    "    return F\n",
    "\n",
    "x_ini = np.array([eta_ini,Rs_ini,Rsh_ini])\n",
    "x = fsolve(parameter_function,x_ini)\n",
    "print (x)"
   ]
  },
  {
   "cell_type": "code",
   "execution_count": null,
   "metadata": {},
   "outputs": [],
   "source": [
    "eta = x[0]\n",
    "Rs  = x[1]\n",
    "Rsh = x[2]\n",
    "print(\"eta=\",eta)\n",
    "print(\"Rs=\",Rs)\n",
    "print(\"Rsh=\",Rsh)"
   ]
  },
  {
   "cell_type": "code",
   "execution_count": null,
   "metadata": {},
   "outputs": [],
   "source": [
    "def I_saturation():\n",
    "    n1=(Voc-Isc*Rs)/Rsh\n",
    "    n2=Isc-n1\n",
    "    #print(n2)\n",
    "    n3=np.exp(-Voc/(eta*Ncell*Vt))\n",
    "    #print(n3)\n",
    "    n4=n2*n3\n",
    "    return n4"
   ]
  },
  {
   "cell_type": "code",
   "execution_count": null,
   "metadata": {},
   "outputs": [],
   "source": [
    "I_saturation()\n",
    "Isat=I_saturation()\n",
    "print (\"Isat  = \",Isat,\"Amps\")"
   ]
  },
  {
   "cell_type": "code",
   "execution_count": null,
   "metadata": {},
   "outputs": [],
   "source": [
    "def I_photon():\n",
    "    n1=np.exp(Voc/(eta*Ncell*Vt))\n",
    "    #print(n1))\n",
    "    n2=Isat*n1\n",
    "    #print(n2)\n",
    "    n3=Voc/Rsh\n",
    "    #print(n3)\n",
    "    n4=n2+n3\n",
    "    return n4"
   ]
  },
  {
   "cell_type": "code",
   "execution_count": null,
   "metadata": {},
   "outputs": [],
   "source": [
    "I_photon()\n",
    "Iph=I_photon()\n",
    "print (\"Iph = \",Iph,\"Amps\")"
   ]
  },
  {
   "cell_type": "markdown",
   "metadata": {},
   "source": [
    "# Q3"
   ]
  },
  {
   "cell_type": "code",
   "execution_count": null,
   "metadata": {},
   "outputs": [],
   "source": [
    "def V_oc(x):\n",
    "    Voc=x[0]\n",
    "    F=np.zeros(np.size(x))\n",
    "    F[0]= Iph-Isat*(np.exp(Voc/(eta*Ncell*Vt)))-Voc/Rsh \n",
    "    return F\n",
    "\n",
    "x=fsolve(V_oc,72*0.6)\n",
    "Voc=x[0]\n",
    "print(\"Voc=\",Voc)"
   ]
  },
  {
   "cell_type": "code",
   "execution_count": null,
   "metadata": {},
   "outputs": [],
   "source": [
    "i=[]\n",
    "\n",
    "def I_sc(x):\n",
    "    I=x[0]\n",
    "    F=np.zeros(np.size(x))\n",
    "    F[0]= -I + Iph - Isat*(np.exp((V+I*Rs) / (eta*Ncell*Vt))-1) - (V+I*Rs)/Rsh\n",
    "    return F"
   ]
  },
  {
   "cell_type": "code",
   "execution_count": null,
   "metadata": {},
   "outputs": [],
   "source": [
    "Vx=np.linspace(0,Voc,num=256)\n",
    "for V in Vx:\n",
    "    x = fsolve(I_sc,Iph)\n",
    "    i.extend(x)\n",
    "    \n",
    "print(\"I=\",i)\n",
    "print(\"V=\",Vx)"
   ]
  },
  {
   "cell_type": "code",
   "execution_count": null,
   "metadata": {},
   "outputs": [],
   "source": [
    "import matplotlib.pyplot as plt "
   ]
  },
  {
   "cell_type": "code",
   "execution_count": null,
   "metadata": {},
   "outputs": [],
   "source": [
    "plt.plot(Vx, i)\n",
    "plt.title('3.IV Curve at STC')\n",
    "plt.xlabel('V in Volts')\n",
    "plt.ylabel('I in Amperes')\n",
    "plt.axis([0, 50, 0, 10])\n",
    "plt.annotate('Voc',xy=(45.3,0),xytext=(45.3,-0.5))\n",
    "plt.annotate('Isc',xy=(0,8.839999758809823),xytext=(-2,8.839999758809823))\n",
    "plt.annotate('Pmax',xy=(36.6040393,8.201053667922631))"
   ]
  },
  {
   "cell_type": "code",
   "execution_count": null,
   "metadata": {},
   "outputs": [],
   "source": [
    "p=[]\n",
    "p=np.multiply(Vx,i)\n",
    "print(\"P=\",p)"
   ]
  },
  {
   "cell_type": "code",
   "execution_count": null,
   "metadata": {},
   "outputs": [],
   "source": [
    "plt.plot(Vx, p)\n",
    "plt.axis([0, 50, 0, 310])\n",
    "plt.title('3.Power Curve at STC')\n",
    "plt.xlabel('V in Volts')\n",
    "plt.ylabel('Power in Watts')\n",
    "plt.show"
   ]
  },
  {
   "cell_type": "code",
   "execution_count": null,
   "metadata": {},
   "outputs": [],
   "source": [
    "Voc=np.amax(Vx)\n",
    "Isc=np.amax(i)\n",
    "Pmax=np.amax(p)\n",
    "print(\"Voc=\",Voc)\n",
    "print(\"Isc=\",Isc)\n",
    "print(\"Pmax=\",Pmax)\n",
    "print(\"Rs=\",Rs)\n",
    "print(\"Rsh=\",Rsh)\n",
    "print(\"Iph=\",Iph)\n",
    "print(\"Isat=\",Isat)"
   ]
  },
  {
   "cell_type": "code",
   "execution_count": null,
   "metadata": {},
   "outputs": [],
   "source": [
    "FF=(Pmax/(Voc*Isc))\n",
    "print(\"Fill Factor=\",FF)"
   ]
  },
  {
   "cell_type": "markdown",
   "metadata": {},
   "source": [
    "# Q4"
   ]
  },
  {
   "cell_type": "code",
   "execution_count": null,
   "metadata": {},
   "outputs": [],
   "source": [
    "Rs=2*Rs\n",
    "print(\"Rs1=\",Rs)"
   ]
  },
  {
   "cell_type": "code",
   "execution_count": null,
   "metadata": {},
   "outputs": [],
   "source": [
    "x=fsolve(V_oc,72*0.6)\n",
    "Voc1=x[0]\n",
    "print(\"Voc=\",Voc1)"
   ]
  },
  {
   "cell_type": "code",
   "execution_count": null,
   "metadata": {},
   "outputs": [],
   "source": [
    "i1=[]\n",
    "Vx=np.linspace(0,Voc1,num=256)\n",
    "for V in Vx:\n",
    "    x = fsolve(I_sc,Iph)\n",
    "    i1.extend(x)\n",
    "    \n",
    "print(\"I=\",i1)\n",
    "print(\"V=\",Vx)"
   ]
  },
  {
   "cell_type": "code",
   "execution_count": null,
   "metadata": {},
   "outputs": [],
   "source": [
    "markers_on = [206]\n",
    "plt.plot(Vx, i1,label='Rs1')\n",
    "plt.plot(Vx, i,label='Rs')\n",
    "plt.legend()\n",
    "plt.title('4.IV Curve at (2*Rs)')\n",
    "plt.xlabel('V in Volts')\n",
    "plt.ylabel('I in Amperes')\n",
    "plt.axis([0, 50, 0, 10])\n",
    "plt.annotate('Voc',xy=(45.3,0),xytext=(45.3,-0.5))\n",
    "plt.annotate('Isc',xy=(0,8.839999758809823),xytext=(-2,8.839999758809823))\n",
    "plt.annotate('Pmax',xy=(36.6040393,8.201053667922631))\n",
    "plt.show()"
   ]
  },
  {
   "cell_type": "code",
   "execution_count": null,
   "metadata": {},
   "outputs": [],
   "source": [
    "p1=[]\n",
    "p1=np.multiply(Vx,i1)\n",
    "print(\"P=\",p1)\n"
   ]
  },
  {
   "cell_type": "code",
   "execution_count": null,
   "metadata": {},
   "outputs": [],
   "source": [
    "Voc1=np.amax(Vx)\n",
    "Isc1=np.amax(i1)\n",
    "Pmax1=np.amax(p1)\n",
    "print(\"Voc=\",Voc1)\n",
    "print(\"Isc=\",Isc1)\n",
    "print(\"Pmax=\",Pmax1)\n",
    "print(\"Rs=\",Rs)\n",
    "print(\"Rsh=\",Rsh)\n",
    "print(\"Iph=\",Iph)\n",
    "print(\"Isat=\",Isat)\n",
    "FF1=(Pmax1/(Voc1*Isc1))\n",
    "print(\"Fill Factor=\",FF1)\n",
    "index=np.where(p1==np.amax(p1))\n",
    "print(index)\n",
    "print(\"point=\",Vx[index])\n",
    "print(\"point1=\",i1[206])"
   ]
  },
  {
   "cell_type": "markdown",
   "metadata": {},
   "source": [
    "# Q4 % degradation"
   ]
  },
  {
   "cell_type": "code",
   "execution_count": null,
   "metadata": {},
   "outputs": [],
   "source": [
    "deltaPmax=((Pmax-Pmax1)/Pmax)\n",
    "print (\"deltaPmax=\",deltaPmax*100,\"%\")"
   ]
  },
  {
   "cell_type": "code",
   "execution_count": null,
   "metadata": {},
   "outputs": [],
   "source": [
    "deltaFF=((FF-FF1)/FF)\n",
    "print (\"deltaFF=\",deltaFF*100,\"%\")"
   ]
  },
  {
   "cell_type": "markdown",
   "metadata": {},
   "source": [
    "# Q5"
   ]
  },
  {
   "cell_type": "code",
   "execution_count": null,
   "metadata": {},
   "outputs": [],
   "source": [
    "Rs=0.21721509749730586 # Q3 as baseline\n",
    "Rsh2=np.linspace(50,Rsh,num=10)\n",
    "print(\"Rsh2=\",Rsh2)\n"
   ]
  },
  {
   "cell_type": "code",
   "execution_count": null,
   "metadata": {},
   "outputs": [],
   "source": [
    "voc=[]\n",
    "for Rsh in Rsh2:\n",
    "    x=fsolve(V_oc,72*0.6)\n",
    "    voc.append(x)\n",
    "\n",
    "print(\"voc=\",voc)\n",
    "    "
   ]
  },
  {
   "cell_type": "code",
   "execution_count": null,
   "metadata": {},
   "outputs": [],
   "source": [
    "i2=[]\n",
    "p2=[]\n",
    "Isc_2=[]\n",
    "Voc_2=[]\n",
    "Pmax_2=[]\n",
    "FF_2=[]\n",
    "Vx=np.linspace(0,Voc,num=256)\n",
    "for Rsh in Rsh2:\n",
    "    for V in Vx:\n",
    "        x = fsolve(I_sc,Iph)\n",
    "        i2.extend(x)\n",
    "    y=0\n",
    "    Voc2=np.amax(Vx)\n",
    "    #print(\"Voc=\",Voc2)\n",
    "    Isc2=np.amax(i2)\n",
    "    #print(\"Isc=\",Isc2)\n",
    "    p2=np.multiply(Vx,i2)\n",
    "    y=p2.size\n",
    "    print(y)\n",
    "    Pmax2=np.amax(p2)\n",
    "    #print(\"Pmax=\",Pmax2)\n",
    "    FF2=(Pmax2/(Voc2*Isc2))\n",
    "    #print(\"FF=\",FF2)\n",
    "    Isc_2.append(Isc2)\n",
    "    Voc_2.append(Voc2)\n",
    "    Pmax_2.append(Pmax2)\n",
    "    FF_2.append(FF2)\n",
    "    i2.clear()\n",
    "print(\"Isc_2=\",Isc_2)\n",
    "print(\"Pmax_2=\",Pmax_2)\n",
    "print(\"FF_2=\",FF_2)"
   ]
  },
  {
   "cell_type": "code",
   "execution_count": null,
   "metadata": {},
   "outputs": [],
   "source": [
    "Voc_delta=[]\n",
    "Isc_delta=[]\n",
    "Pmax_delta=[]\n",
    "FF_delta=[]\n",
    "for i in range(10):\n",
    "    Vocdelta=((Voc-voc[i])/Voc)*100\n",
    "    Iscdelta=((Isc-Isc_2[i])/Isc)*100\n",
    "    Pmaxdelta=((Pmax-Pmax_2[i])/Pmax)*100\n",
    "    FFdelta=((FF-FF_2[i])/FF)*100\n",
    "    Voc_delta.extend(Vocdelta)\n",
    "    Isc_delta.append(Iscdelta)\n",
    "    Pmax_delta.append(Pmaxdelta)\n",
    "    FF_delta.append(FFdelta)\n",
    "\n",
    "print(Voc_delta)\n",
    "print(Isc_delta)\n",
    "print(Pmax_delta)\n",
    "print(FF_delta)"
   ]
  },
  {
   "cell_type": "code",
   "execution_count": null,
   "metadata": {},
   "outputs": [],
   "source": [
    "plt.plot(Rsh2, Pmax_delta)\n",
    "plt.axis([0, 1200, 0, 10])\n",
    "plt.title('5.Pmax_delta % Vs Rsh')\n",
    "plt.ylabel('Pmax_delta % in Watts')\n",
    "plt.xlabel('R in ohms')"
   ]
  },
  {
   "cell_type": "code",
   "execution_count": null,
   "metadata": {},
   "outputs": [],
   "source": [
    "plt.plot(Rsh2, FF_delta)\n",
    "plt.axis([0, 1200, 0, 10])\n",
    "plt.title('5.FF_delta % Vs Rsh')\n",
    "plt.ylabel('FF_delta %')\n",
    "plt.xlabel('R in ohms')"
   ]
  },
  {
   "cell_type": "code",
   "execution_count": null,
   "metadata": {},
   "outputs": [],
   "source": [
    "plt.plot(Rsh2, Voc_delta)\n",
    "plt.axis([0, 1200, 0, 0.8])\n",
    "plt.title('5.Voc_delta % Vs Rsh')\n",
    "plt.ylabel('Voc_delta % in Volts')\n",
    "plt.xlabel('R in ohms')"
   ]
  },
  {
   "cell_type": "code",
   "execution_count": null,
   "metadata": {},
   "outputs": [],
   "source": [
    "plt.plot(Rsh2, Isc_delta)\n",
    "plt.axis([0, 1200, 0, 0.5])\n",
    "plt.title('5.Isc_delta % Vs Rsh')\n",
    "plt.ylabel('Isc_delta % in Amps')\n",
    "plt.xlabel('R in ohms')"
   ]
  },
  {
   "cell_type": "markdown",
   "metadata": {},
   "source": [
    "# Q5.2"
   ]
  },
  {
   "cell_type": "code",
   "execution_count": null,
   "metadata": {},
   "outputs": [],
   "source": [
    "Rsh3= 10*Rsh\n",
    "print(Rsh3)"
   ]
  },
  {
   "cell_type": "code",
   "execution_count": null,
   "metadata": {},
   "outputs": [],
   "source": [
    "Rsh = Rsh3\n",
    "x=fsolve(V_oc,72*0.6)\n",
    "Voc=x[0]\n",
    "print(\"Voc=\",Voc)"
   ]
  },
  {
   "cell_type": "code",
   "execution_count": null,
   "metadata": {},
   "outputs": [],
   "source": [
    "Rs=0.21721509749730586\n",
    "i3=[]\n",
    "Vx=np.linspace(0,Voc,num=256)\n",
    "for V in Vx:\n",
    "    x = fsolve(I_sc,Iph)\n",
    "    i3.extend(x)"
   ]
  },
  {
   "cell_type": "code",
   "execution_count": null,
   "metadata": {},
   "outputs": [],
   "source": [
    "p3=[]\n",
    "p3=np.multiply(Vx,i3)\n",
    "Pmax3=np.amax(p3)\n",
    "print(\"Pmax3=\",Pmax3)\n"
   ]
  },
  {
   "cell_type": "code",
   "execution_count": null,
   "metadata": {},
   "outputs": [],
   "source": [
    "P_delta=[]\n",
    "for i in range(256):\n",
    "    Pdelta=(p3[i]-p[i])\n",
    "    P_delta.append(Pdelta)\n",
    "    "
   ]
  },
  {
   "cell_type": "code",
   "execution_count": null,
   "metadata": {},
   "outputs": [],
   "source": [
    "plt.plot(Vx,p)\n",
    "plt.axis([0, 50, 0, 310])\n",
    "plt.title('5.Power(Rsh) Curve')\n",
    "plt.ylabel('Power in watts')\n",
    "plt.xlabel(\"V in Volts\")\n",
    "plt.show()\n",
    "\n",
    "plt.plot(Vx,p3)\n",
    "plt.axis([0, 50, 0, 310])\n",
    "plt.title('5.Power(10*Rsh) Curve')\n",
    "plt.ylabel('Power in watts')\n",
    "plt.xlabel(\"V in Volts\")\n",
    "plt.show()\n"
   ]
  },
  {
   "cell_type": "code",
   "execution_count": null,
   "metadata": {},
   "outputs": [],
   "source": []
  }
 ],
 "metadata": {
  "kernelspec": {
   "display_name": "Python 3",
   "language": "python",
   "name": "python3"
  },
  "language_info": {
   "codemirror_mode": {
    "name": "ipython",
    "version": 3
   },
   "file_extension": ".py",
   "mimetype": "text/x-python",
   "name": "python",
   "nbconvert_exporter": "python",
   "pygments_lexer": "ipython3",
   "version": "3.7.3"
  }
 },
 "nbformat": 4,
 "nbformat_minor": 2
}
